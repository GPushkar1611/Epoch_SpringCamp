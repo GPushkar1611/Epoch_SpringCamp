{
 "cells": [
  {
   "cell_type": "code",
   "execution_count": 1,
   "metadata": {},
   "outputs": [],
   "source": [
    "import numpy as np"
   ]
  },
  {
   "cell_type": "code",
   "execution_count": null,
   "metadata": {},
   "outputs": [],
   "source": [
    "class Node:\n",
    "    def __init__(self, value,  op=None, op_args=None, children=()):\n",
    "        self.value = np.array(value)  # value is stored as a NumPy array\n",
    "        self.children = children  # Store dependencies (other Node objects)\n",
    "        self.op = op  # Operation type\n",
    "        self.op_args = op_args if op_args is not None else {}  # Extra operation details\n",
    "\n",
    "    def __repr__(self):\n",
    "        return f\"Node(value={self.value}, op={self.op})\"\n",
    "\n",
    "    # Overloading arithmetic operators\n",
    "    def __add__(self, other):\n",
    "        other = other if isinstance(other, Node) else Node(other)  # Convert scalar to Node\n",
    "        return Node(self.value + other.value, children=(self, other), op=\"add\")\n",
    "\n",
    "    def __sub__(self, other):\n",
    "        other = other if isinstance(other, Node) else Node(other)\n",
    "        return Node(self.value - other.value, children=(self, other), op=\"sub\")\n",
    "\n",
    "    def __mul__(self, other):\n",
    "        other = other if isinstance(other, Node) else Node(other)\n",
    "        return Node(self.value * other.value, children=(self, other), op=\"mul\")\n",
    "\n",
    "    def __truediv__(self, other):\n",
    "        other = other if isinstance(other, Node) else Node(other)\n",
    "        return Node(self.value / other.value, children=(self, other), op=\"div\")\n",
    "\n",
    "    def __pow__(self, other):\n",
    "        other = other if isinstance(other, Node) else Node(other)\n",
    "        return Node(self.value ** other.value, children=(self, other), op=\"pow\")"
   ]
  }
 ],
 "metadata": {
  "kernelspec": {
   "display_name": "Python 3",
   "language": "python",
   "name": "python3"
  },
  "language_info": {
   "codemirror_mode": {
    "name": "ipython",
    "version": 3
   },
   "file_extension": ".py",
   "mimetype": "text/x-python",
   "name": "python",
   "nbconvert_exporter": "python",
   "pygments_lexer": "ipython3",
   "version": "3.13.0"
  }
 },
 "nbformat": 4,
 "nbformat_minor": 2
}
